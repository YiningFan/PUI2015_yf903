{
 "cells": [
  {
   "cell_type": "markdown",
   "metadata": {},
   "source": [
    "1.\tIdea:\n",
    "There is a difference in trip durations between weekdays and weekends.\n",
    "\n",
    "The traffic volume during the weekdays and weekends is significantly different in New York City. Several different factors vary between weekdays and weekends and influence trip duration data. There might be a significant difference between weekdays and weekends Citibike trip duration.\n",
    "\n",
    "2.\tTestable hypothesis:\n",
    "Null hypothesis: The trip durations during weekdays and weekends is the same."
   ]
  }
 ],
 "metadata": {
  "kernelspec": {
   "display_name": "Python 2",
   "language": "python",
   "name": "python2"
  },
  "language_info": {
   "codemirror_mode": {
    "name": "ipython",
    "version": 2
   },
   "file_extension": ".py",
   "mimetype": "text/x-python",
   "name": "python",
   "nbconvert_exporter": "python",
   "pygments_lexer": "ipython2",
   "version": "2.7.10"
  }
 },
 "nbformat": 4,
 "nbformat_minor": 0
}
