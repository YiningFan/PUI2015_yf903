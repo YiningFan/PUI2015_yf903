{
 "cells": [
  {
   "cell_type": "code",
   "execution_count": 2,
   "metadata": {
    "collapsed": false
   },
   "outputs": [
    {
     "name": "stdout",
     "output_type": "stream",
     "text": [
      "Populating the interactive namespace from numpy and matplotlib\n"
     ]
    }
   ],
   "source": [
    "import numpy as np\n",
    "import pandas as pd\n",
    "import pylab as pl\n",
    "import os\n",
    "import json\n",
    "import geopandas as gp\n",
    "import urllib2\n",
    "import statsmodels.api as sm1\n",
    "import statsmodels.formula.api as sm\n",
    "%pylab inline"
   ]
  },
  {
   "cell_type": "code",
   "execution_count": 3,
   "metadata": {
    "collapsed": true
   },
   "outputs": [],
   "source": [
    "df = pd.read_csv(\"CSA.csv\")"
   ]
  },
  {
   "cell_type": "code",
   "execution_count": 4,
   "metadata": {
    "collapsed": false
   },
   "outputs": [
    {
     "data": {
      "text/html": [
       "<div>\n",
       "<table border=\"1\" class=\"dataframe\">\n",
       "  <thead>\n",
       "    <tr style=\"text-align: right;\">\n",
       "      <th></th>\n",
       "      <th>FID</th>\n",
       "      <th>csacode</th>\n",
       "      <th>csatitle</th>\n",
       "      <th>County_Total</th>\n",
       "      <th>ALAND</th>\n",
       "      <th>POP2000</th>\n",
       "      <th>Normalized</th>\n",
       "      <th>Land_Area</th>\n",
       "      <th>POP_Density</th>\n",
       "      <th>Log_Density</th>\n",
       "      <th>Log_Land_Area</th>\n",
       "    </tr>\n",
       "  </thead>\n",
       "  <tbody>\n",
       "    <tr>\n",
       "      <th>0</th>\n",
       "      <td>112</td>\n",
       "      <td>408</td>\n",
       "      <td>New York-Newark, NY-NJ-CT-PA</td>\n",
       "      <td>65304422</td>\n",
       "      <td>35882895971</td>\n",
       "      <td>22240879</td>\n",
       "      <td>2.93623</td>\n",
       "      <td>13854.463610</td>\n",
       "      <td>1605.322273</td>\n",
       "      <td>3.205562</td>\n",
       "      <td>4.141590</td>\n",
       "    </tr>\n",
       "    <tr>\n",
       "      <th>1</th>\n",
       "      <td>120</td>\n",
       "      <td>428</td>\n",
       "      <td>Philadelphia-Reading-Camden, PA-NJ-DE-MD</td>\n",
       "      <td>21493872</td>\n",
       "      <td>18999164331</td>\n",
       "      <td>6688798</td>\n",
       "      <td>3.21341</td>\n",
       "      <td>7335.618367</td>\n",
       "      <td>911.824698</td>\n",
       "      <td>2.959911</td>\n",
       "      <td>3.865437</td>\n",
       "    </tr>\n",
       "    <tr>\n",
       "      <th>2</th>\n",
       "      <td>22</td>\n",
       "      <td>176</td>\n",
       "      <td>Chicago-Naperville, IL-IN-WI</td>\n",
       "      <td>50718455</td>\n",
       "      <td>27547049560</td>\n",
       "      <td>9465353</td>\n",
       "      <td>5.35833</td>\n",
       "      <td>10635.975310</td>\n",
       "      <td>889.937474</td>\n",
       "      <td>2.949359</td>\n",
       "      <td>4.026777</td>\n",
       "    </tr>\n",
       "    <tr>\n",
       "      <th>3</th>\n",
       "      <td>38</td>\n",
       "      <td>220</td>\n",
       "      <td>Detroit-Warren-Ann Arbor, MI</td>\n",
       "      <td>28699423</td>\n",
       "      <td>16913389521</td>\n",
       "      <td>5456428</td>\n",
       "      <td>5.25975</td>\n",
       "      <td>6530.296210</td>\n",
       "      <td>835.555972</td>\n",
       "      <td>2.921976</td>\n",
       "      <td>3.814933</td>\n",
       "    </tr>\n",
       "    <tr>\n",
       "      <th>4</th>\n",
       "      <td>12</td>\n",
       "      <td>148</td>\n",
       "      <td>Boston-Worcester-Providence, MA-RI-NH-CT</td>\n",
       "      <td>29030745</td>\n",
       "      <td>25128606215</td>\n",
       "      <td>7630016</td>\n",
       "      <td>3.80481</td>\n",
       "      <td>9702.209112</td>\n",
       "      <td>786.420485</td>\n",
       "      <td>2.895655</td>\n",
       "      <td>3.986871</td>\n",
       "    </tr>\n",
       "  </tbody>\n",
       "</table>\n",
       "</div>"
      ],
      "text/plain": [
       "   FID  csacode                                  csatitle  County_Total  \\\n",
       "0  112      408              New York-Newark, NY-NJ-CT-PA      65304422   \n",
       "1  120      428  Philadelphia-Reading-Camden, PA-NJ-DE-MD      21493872   \n",
       "2   22      176              Chicago-Naperville, IL-IN-WI      50718455   \n",
       "3   38      220              Detroit-Warren-Ann Arbor, MI      28699423   \n",
       "4   12      148  Boston-Worcester-Providence, MA-RI-NH-CT      29030745   \n",
       "\n",
       "         ALAND   POP2000  Normalized     Land_Area  POP_Density  Log_Density  \\\n",
       "0  35882895971  22240879     2.93623  13854.463610  1605.322273     3.205562   \n",
       "1  18999164331   6688798     3.21341   7335.618367   911.824698     2.959911   \n",
       "2  27547049560   9465353     5.35833  10635.975310   889.937474     2.949359   \n",
       "3  16913389521   5456428     5.25975   6530.296210   835.555972     2.921976   \n",
       "4  25128606215   7630016     3.80481   9702.209112   786.420485     2.895655   \n",
       "\n",
       "   Log_Land_Area  \n",
       "0       4.141590  \n",
       "1       3.865437  \n",
       "2       4.026777  \n",
       "3       3.814933  \n",
       "4       3.986871  "
      ]
     },
     "execution_count": 4,
     "metadata": {},
     "output_type": "execute_result"
    }
   ],
   "source": [
    "df.head()"
   ]
  },
  {
   "cell_type": "code",
   "execution_count": 5,
   "metadata": {
    "collapsed": false,
    "scrolled": true
   },
   "outputs": [
    {
     "data": {
      "text/html": [
       "<div>\n",
       "<table border=\"1\" class=\"dataframe\">\n",
       "  <thead>\n",
       "    <tr style=\"text-align: right;\">\n",
       "      <th></th>\n",
       "      <th>FID</th>\n",
       "      <th>csacode</th>\n",
       "      <th>County_Total</th>\n",
       "      <th>ALAND</th>\n",
       "      <th>POP2000</th>\n",
       "      <th>Normalized</th>\n",
       "      <th>Land_Area</th>\n",
       "      <th>POP_Density</th>\n",
       "      <th>Log_Density</th>\n",
       "      <th>Log_Land_Area</th>\n",
       "    </tr>\n",
       "  </thead>\n",
       "  <tbody>\n",
       "    <tr>\n",
       "      <th>count</th>\n",
       "      <td>166.000000</td>\n",
       "      <td>166.000000</td>\n",
       "      <td>166.000000</td>\n",
       "      <td>1.660000e+02</td>\n",
       "      <td>166.000000</td>\n",
       "      <td>166.000000</td>\n",
       "      <td>166.000000</td>\n",
       "      <td>166.000000</td>\n",
       "      <td>166.000000</td>\n",
       "      <td>166.000000</td>\n",
       "    </tr>\n",
       "    <tr>\n",
       "      <th>mean</th>\n",
       "      <td>82.500000</td>\n",
       "      <td>336.746988</td>\n",
       "      <td>6113318.463855</td>\n",
       "      <td>1.360017e+10</td>\n",
       "      <td>1281683.481928</td>\n",
       "      <td>7.289837</td>\n",
       "      <td>5251.067797</td>\n",
       "      <td>203.382359</td>\n",
       "      <td>2.148177</td>\n",
       "      <td>3.580395</td>\n",
       "    </tr>\n",
       "    <tr>\n",
       "      <th>std</th>\n",
       "      <td>48.064193</td>\n",
       "      <td>127.586106</td>\n",
       "      <td>9279746.811387</td>\n",
       "      <td>1.402691e+10</td>\n",
       "      <td>2585148.035245</td>\n",
       "      <td>10.704538</td>\n",
       "      <td>5415.895938</td>\n",
       "      <td>204.072625</td>\n",
       "      <td>0.388037</td>\n",
       "      <td>0.333020</td>\n",
       "    </tr>\n",
       "    <tr>\n",
       "      <th>min</th>\n",
       "      <td>0.000000</td>\n",
       "      <td>104.000000</td>\n",
       "      <td>150999.000000</td>\n",
       "      <td>1.597387e+09</td>\n",
       "      <td>32874.000000</td>\n",
       "      <td>1.772300</td>\n",
       "      <td>616.754521</td>\n",
       "      <td>4.626677</td>\n",
       "      <td>0.665269</td>\n",
       "      <td>2.790112</td>\n",
       "    </tr>\n",
       "    <tr>\n",
       "      <th>25%</th>\n",
       "      <td>41.250000</td>\n",
       "      <td>232.250000</td>\n",
       "      <td>1233122.500000</td>\n",
       "      <td>5.775350e+09</td>\n",
       "      <td>213600.500000</td>\n",
       "      <td>3.417930</td>\n",
       "      <td>2229.874916</td>\n",
       "      <td>86.686425</td>\n",
       "      <td>1.937922</td>\n",
       "      <td>3.348280</td>\n",
       "    </tr>\n",
       "    <tr>\n",
       "      <th>50%</th>\n",
       "      <td>82.500000</td>\n",
       "      <td>338.500000</td>\n",
       "      <td>2614123.500000</td>\n",
       "      <td>8.657534e+09</td>\n",
       "      <td>488018.500000</td>\n",
       "      <td>4.388860</td>\n",
       "      <td>3342.692718</td>\n",
       "      <td>142.663049</td>\n",
       "      <td>2.154311</td>\n",
       "      <td>3.524096</td>\n",
       "    </tr>\n",
       "    <tr>\n",
       "      <th>75%</th>\n",
       "      <td>123.750000</td>\n",
       "      <td>443.000000</td>\n",
       "      <td>6701975.250000</td>\n",
       "      <td>1.604439e+10</td>\n",
       "      <td>1205642.000000</td>\n",
       "      <td>6.927693</td>\n",
       "      <td>6194.771985</td>\n",
       "      <td>243.228850</td>\n",
       "      <td>2.386001</td>\n",
       "      <td>3.792019</td>\n",
       "    </tr>\n",
       "    <tr>\n",
       "      <th>max</th>\n",
       "      <td>165.000000</td>\n",
       "      <td>566.000000</td>\n",
       "      <td>65304422.000000</td>\n",
       "      <td>1.020000e+11</td>\n",
       "      <td>22240879.000000</td>\n",
       "      <td>118.766998</td>\n",
       "      <td>39384.437030</td>\n",
       "      <td>1605.322273</td>\n",
       "      <td>3.205562</td>\n",
       "      <td>4.595325</td>\n",
       "    </tr>\n",
       "  </tbody>\n",
       "</table>\n",
       "</div>"
      ],
      "text/plain": [
       "              FID     csacode     County_Total         ALAND          POP2000  \\\n",
       "count  166.000000  166.000000       166.000000  1.660000e+02       166.000000   \n",
       "mean    82.500000  336.746988   6113318.463855  1.360017e+10   1281683.481928   \n",
       "std     48.064193  127.586106   9279746.811387  1.402691e+10   2585148.035245   \n",
       "min      0.000000  104.000000    150999.000000  1.597387e+09     32874.000000   \n",
       "25%     41.250000  232.250000   1233122.500000  5.775350e+09    213600.500000   \n",
       "50%     82.500000  338.500000   2614123.500000  8.657534e+09    488018.500000   \n",
       "75%    123.750000  443.000000   6701975.250000  1.604439e+10   1205642.000000   \n",
       "max    165.000000  566.000000  65304422.000000  1.020000e+11  22240879.000000   \n",
       "\n",
       "       Normalized     Land_Area  POP_Density  Log_Density  Log_Land_Area  \n",
       "count  166.000000    166.000000   166.000000   166.000000     166.000000  \n",
       "mean     7.289837   5251.067797   203.382359     2.148177       3.580395  \n",
       "std     10.704538   5415.895938   204.072625     0.388037       0.333020  \n",
       "min      1.772300    616.754521     4.626677     0.665269       2.790112  \n",
       "25%      3.417930   2229.874916    86.686425     1.937922       3.348280  \n",
       "50%      4.388860   3342.692718   142.663049     2.154311       3.524096  \n",
       "75%      6.927693   6194.771985   243.228850     2.386001       3.792019  \n",
       "max    118.766998  39384.437030  1605.322273     3.205562       4.595325  "
      ]
     },
     "execution_count": 5,
     "metadata": {},
     "output_type": "execute_result"
    }
   ],
   "source": [
    "df.describe()"
   ]
  },
  {
   "cell_type": "code",
   "execution_count": 5,
   "metadata": {
    "collapsed": true
   },
   "outputs": [],
   "source": [
    "import statsmodels.formula.api as smf"
   ]
  },
  {
   "cell_type": "code",
   "execution_count": 6,
   "metadata": {
    "collapsed": false
   },
   "outputs": [
    {
     "name": "stdout",
     "output_type": "stream",
     "text": [
      "                            OLS Regression Results                            \n",
      "==============================================================================\n",
      "Dep. Variable:             Normalized   R-squared:                       0.113\n",
      "Model:                            OLS   Adj. R-squared:                  0.108\n",
      "Method:                 Least Squares   F-statistic:                     20.97\n",
      "Date:                Sun, 22 Nov 2015   Prob (F-statistic):           9.17e-06\n",
      "Time:                        20:05:09   Log-Likelihood:                -618.58\n",
      "No. Observations:                 166   AIC:                             1241.\n",
      "Df Residuals:                     164   BIC:                             1247.\n",
      "Df Model:                           1                                         \n",
      "Covariance Type:            nonrobust                                         \n",
      "==================================================================================\n",
      "                     coef    std err          t      P>|t|      [95.0% Conf. Int.]\n",
      "----------------------------------------------------------------------------------\n",
      "Intercept         27.2443      4.427      6.154      0.000        18.502    35.986\n",
      "I(Log_Density)    -9.2890      2.028     -4.580      0.000       -13.294    -5.284\n",
      "==============================================================================\n",
      "Omnibus:                      238.795   Durbin-Watson:                   1.539\n",
      "Prob(Omnibus):                  0.000   Jarque-Bera (JB):            20230.265\n",
      "Skew:                           6.012   Prob(JB):                         0.00\n",
      "Kurtosis:                      55.728   Cond. No.                         14.8\n",
      "==============================================================================\n",
      "\n",
      "Warnings:\n",
      "[1] Standard Errors assume that the covariance matrix of the errors is correctly specified.\n"
     ]
    }
   ],
   "source": [
    "model1 = smf.ols('Normalized ~ 1+I(Log_Density)', data=df).fit()\n",
    "print model1.summary()"
   ]
  },
  {
   "cell_type": "code",
   "execution_count": 7,
   "metadata": {
    "collapsed": false,
    "scrolled": true
   },
   "outputs": [
    {
     "name": "stdout",
     "output_type": "stream",
     "text": [
      "                            OLS Regression Results                            \n",
      "==============================================================================\n",
      "Dep. Variable:             Normalized   R-squared:                       0.250\n",
      "Model:                            OLS   Adj. R-squared:                  0.241\n",
      "Method:                 Least Squares   F-statistic:                     27.17\n",
      "Date:                Sun, 22 Nov 2015   Prob (F-statistic):           6.56e-11\n",
      "Time:                        20:05:15   Log-Likelihood:                -604.69\n",
      "No. Observations:                 166   AIC:                             1215.\n",
      "Df Residuals:                     163   BIC:                             1225.\n",
      "Df Model:                           2                                         \n",
      "Covariance Type:            nonrobust                                         \n",
      "=========================================================================================\n",
      "                            coef    std err          t      P>|t|      [95.0% Conf. Int.]\n",
      "-----------------------------------------------------------------------------------------\n",
      "Intercept                91.2721     12.439      7.337      0.000        66.709   115.835\n",
      "Log_Density             -73.5524     11.940     -6.160      0.000       -97.130   -49.975\n",
      "I(Log_Density ** 2.0)    15.5366      2.851      5.449      0.000         9.907    21.166\n",
      "==============================================================================\n",
      "Omnibus:                      146.538   Durbin-Watson:                   1.545\n",
      "Prob(Omnibus):                  0.000   Jarque-Bera (JB):             3102.905\n",
      "Skew:                           3.043   Prob(JB):                         0.00\n",
      "Kurtosis:                      23.287   Cond. No.                         134.\n",
      "==============================================================================\n",
      "\n",
      "Warnings:\n",
      "[1] Standard Errors assume that the covariance matrix of the errors is correctly specified.\n"
     ]
    }
   ],
   "source": [
    "model2 = smf.ols('Normalized ~ 1+Log_Density+I(Log_Density**2.0)', data=df).fit()\n",
    "print model2.summary()"
   ]
  },
  {
   "cell_type": "code",
   "execution_count": null,
   "metadata": {
    "collapsed": true
   },
   "outputs": [],
   "source": []
  },
  {
   "cell_type": "code",
   "execution_count": 9,
   "metadata": {
    "collapsed": false
   },
   "outputs": [],
   "source": [
    "#pl.plot(x, model1.predict(x), lw = 5, label=\"quadratic fit\")\n",
    "#pl.plot(q, r, 'k.', markersize=10)"
   ]
  },
  {
   "cell_type": "code",
   "execution_count": 12,
   "metadata": {
    "collapsed": false
   },
   "outputs": [
    {
     "data": {
      "image/png": "[encoded data removed]",
      "text/plain": [
       "<matplotlib.figure.Figure at 0x111417bd0>"
      ]
     },
     "metadata": {},
     "output_type": "display_data"
    }
   ],
   "source": [
    "df.plot(kind='scatter', x='Log_Density', y=\"Normalized\", figsize=(12,8), s=50)\n",
    "x= pd.DataFrame({'Log_Density': np.linspace(df.Log_Density.min()-1, df.Log_Density.max(), 100)})\n",
    "plt.xlim(1, 3.5)\n",
    "plt.ylim(0, 60)\n",
    "plt.plot(x, model1.predict(x), 'Green', linewidth = 6)\n",
    "plt.plot(x, model2.predict(x),'IndianRed', linewidth = 6)\n",
    "pl.xlabel(\"Log Population Desnity\", fontsize=20)\n",
    "pl.ylabel(\"Emission Per Capita\", fontsize=20)\n",
    "plt.title('OLS Model linear and non-linear: Log population Density vs. Emission Per Cpaita',fontsize=20)\n",
    "plt.legend(fontsize=30, loc=2)"
   ]
  }
 ],
 "metadata": {
  "kernelspec": {
   "display_name": "Python 2",
   "language": "python",
   "name": "python2"
  },
  "language_info": {
   "codemirror_mode": {
    "name": "ipython",
    "version": 2
   },
   "file_extension": ".py",
   "mimetype": "text/x-python",
   "name": "python",
   "nbconvert_exporter": "python",
   "pygments_lexer": "ipython2",
   "version": "2.7.10"
  }
 },
 "nbformat": 4,
 "nbformat_minor": 0
}
